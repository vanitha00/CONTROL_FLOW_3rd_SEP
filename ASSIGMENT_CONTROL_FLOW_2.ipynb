{
 "cells": [
  {
   "cell_type": "markdown",
   "metadata": {},
   "source": [
    "Basic Level:\n",
    "1.Write a Python program that checks if a given number is positive, negative, or zero.\n",
    "2.Create a program to determine if a person is eligible to vote based on their age.\n",
    "3.Write a program to find the maximum of two given numbers using conditional statements.\n",
    "4.Develop a program that calculates the grade of a student based on their exam score.\n",
    "5.Create a program that checks if a year is a leap year or not.\n",
    "6.Write a program to classify a triangle based on its sides' lengths.\n",
    "7.Build a program that determines the largest of three given numbers.\n",
    "8.Develop a program that checks whether a character is a vowel or a consonant.\n",
    "9.Create a program to calculate the total cost of a shopping cart based on discounts.\n",
    "10.Write a program that checks if a given number is even or odd."
   ]
  },
  {
   "cell_type": "code",
   "execution_count": 1,
   "metadata": {},
   "outputs": [
    {
     "name": "stdin",
     "output_type": "stream",
     "text": [
      "enter a number 0\n"
     ]
    },
    {
     "name": "stdout",
     "output_type": "stream",
     "text": [
      "0 is zero\n"
     ]
    }
   ],
   "source": [
    "number=int(input('enter a number'))\n",
    "if number>0:\n",
    "    print(number,'is positive')\n",
    "elif number<0:\n",
    "    print(number,'is negative')\n",
    "else:\n",
    "    print(number,'is zero')"
   ]
  },
  {
   "cell_type": "code",
   "execution_count": 2,
   "metadata": {},
   "outputs": [
    {
     "name": "stdin",
     "output_type": "stream",
     "text": [
      "enter your age: 19\n"
     ]
    },
    {
     "name": "stdout",
     "output_type": "stream",
     "text": [
      "your eligible to vote\n"
     ]
    }
   ],
   "source": [
    "age=int(input('enter your age:'))\n",
    "if age>18:\n",
    "    print('your eligible to vote')\n",
    "else:\n",
    "    print('your not eligible to vote')"
   ]
  },
  {
   "cell_type": "code",
   "execution_count": 6,
   "metadata": {},
   "outputs": [
    {
     "name": "stdout",
     "output_type": "stream",
     "text": [
      "enter a number:30\n",
      "enter a number:8\n",
      "30 is maximum\n"
     ]
    }
   ],
   "source": [
    "num1=int(input('enter a number:'))\n",
    "num2=int(input('enter a number:'))\n",
    "if num1>num2:\n",
    "    print(num1,'is maximum')\n",
    "else:\n",
    "    print(num2,'is maximum')"
   ]
  },
  {
   "cell_type": "code",
   "execution_count": 4,
   "metadata": {},
   "outputs": [
    {
     "name": "stdin",
     "output_type": "stream",
     "text": [
      "enter your score: 90\n"
     ]
    },
    {
     "name": "stdout",
     "output_type": "stream",
     "text": [
      "your grade is A\n"
     ]
    }
   ],
   "source": [
    "score=float(input('enter your score:')) # taking input from user\n",
    "if score==100 and score>90:    #checking conditions\n",
    "    print('your grade is EX')\n",
    "elif score<=90 and score>80:\n",
    "    print('your grade is A')\n",
    "elif score<=80 and score>75:\n",
    "    print('your grade is B')\n",
    "elif score<=75 and score>50:\n",
    "    print('your grade is C')\n",
    "else:\n",
    "    print('fail') "
   ]
  },
  {
   "cell_type": "code",
   "execution_count": 6,
   "metadata": {},
   "outputs": [
    {
     "name": "stdin",
     "output_type": "stream",
     "text": [
      "enter a year: 2004\n"
     ]
    },
    {
     "name": "stdout",
     "output_type": "stream",
     "text": [
      "2004 is a leap year\n"
     ]
    }
   ],
   "source": [
    "year=int(input('enter a year:'))\n",
    "if year%4==0 and (year%100!=0 or year%400==0):\n",
    "    print(year,'is a leap year')\n",
    "else:\n",
    "    print(year,'is not leap year')"
   ]
  },
  {
   "cell_type": "code",
   "execution_count": 1,
   "metadata": {},
   "outputs": [
    {
     "name": "stdin",
     "output_type": "stream",
     "text": [
      "enter length1 of triangle: 4\n",
      "enter length2 of traingle: 5\n",
      "enter length3 of traingle: 7\n"
     ]
    },
    {
     "name": "stdout",
     "output_type": "stream",
     "text": [
      "this traingle is obtuse_angled traingle\n"
     ]
    }
   ],
   "source": [
    "side_1=int(input('enter length1 of triangle:')) #inputs from user\n",
    "side_2=int(input('enter length2 of traingle:'))\n",
    "side_3=int(input('enter length3 of traingle:'))\n",
    "s_s1=side_1*side_1   #square of length1\n",
    "s_s2=side_2*side_2   #square of length2\n",
    "s_s3=side_3*side_3   #square of length3\n",
    "if s_s1==s_s2+s_s3 or s_s2==s_s1+s_s3 or s_s3==s_s1+s_s2:\n",
    "    print('traingle is right-angled traingle')\n",
    "elif s_s1>s_s2+s_s3 or s_s2>s_s1+s_s3 or s_s3>s_s1+s_s2:\n",
    "    print('this traingle is obtuse_angled traingle')\n",
    "else:\n",
    "    print('this traingle is Acute-angled traingle')"
   ]
  },
  {
   "cell_type": "code",
   "execution_count": 3,
   "metadata": {},
   "outputs": [
    {
     "name": "stdin",
     "output_type": "stream",
     "text": [
      "enter a number: 67\n",
      "enter a number: 89\n",
      "enter a number: 78\n"
     ]
    },
    {
     "name": "stdout",
     "output_type": "stream",
     "text": [
      "89 is largest\n"
     ]
    }
   ],
   "source": [
    "num1=int(input('enter a number:'))\n",
    "num2=int(input('enter a number:'))\n",
    "num3=int(input('enter a number:'))\n",
    "if num1>num2:\n",
    "    if num1>num3:\n",
    "        print(num1,'is largest')\n",
    "    else:\n",
    "        print(num3,'is largest')\n",
    "else:\n",
    "    if num2>num3:\n",
    "        print(num2,'is largest')\n",
    "    else:\n",
    "        print(num3,'is largest')   "
   ]
  },
  {
   "cell_type": "code",
   "execution_count": 1,
   "metadata": {},
   "outputs": [
    {
     "name": "stdin",
     "output_type": "stream",
     "text": [
      "enter a character: I\n"
     ]
    },
    {
     "name": "stdout",
     "output_type": "stream",
     "text": [
      "I is vowel\n"
     ]
    }
   ],
   "source": [
    "char=input('enter a character:')\n",
    "if char in ['a','e','i','o','u','A','E','I','O','U']:\n",
    "    print(char,'is vowel')\n",
    "else:\n",
    "    print(char,'is consonant')"
   ]
  },
  {
   "cell_type": "code",
   "execution_count": 7,
   "metadata": {},
   "outputs": [
    {
     "name": "stdout",
     "output_type": "stream",
     "text": [
      "total costof your products after discount: 6221.5\n"
     ]
    }
   ],
   "source": [
    "def discount_mult(q):\n",
    "        if q > 20:\n",
    "            return 0.5\n",
    "        elif q >= 20:\n",
    "            return 0.7\n",
    "        elif q >= 10:\n",
    "            return 0.8\n",
    "        elif q >= 7:\n",
    "            return 0.9\n",
    "        elif q >= 5:\n",
    "            return 0.95\n",
    "        else:\n",
    "            return 1 \n",
    "class Product:\n",
    "    \n",
    "    def __init__(self,name,price,count):\n",
    "        self.name = name\n",
    "        self.price = price\n",
    "        self.count = count\n",
    "class Cart:\n",
    "    \n",
    "    def __init__(self,*products_list):\n",
    "        self.products_list = products_list\n",
    "    \n",
    "    def get_total_price(self):\n",
    "        return sum([i.price*i.count*discount_mult(i.count) for i in self.products_list[0]])      \n",
    "products = (Product('books',100,4),\n",
    "Product('pens',10,5),\n",
    "Product('milk',120,6),\n",
    "Product('eggs',300,7),\n",
    "Product('tshirts',1000,2),\n",
    "Product('pants',500,2),\n",
    "Product('bangles',100,2))\n",
    "cart = Cart(products)\n",
    "print(\"total costof your products after discount:\",cart.get_total_price())"
   ]
  },
  {
   "cell_type": "code",
   "execution_count": 2,
   "metadata": {},
   "outputs": [
    {
     "name": "stdin",
     "output_type": "stream",
     "text": [
      "enter a number: 90\n"
     ]
    },
    {
     "name": "stdout",
     "output_type": "stream",
     "text": [
      "90 is even\n"
     ]
    }
   ],
   "source": [
    "number=int(input('enter a number:'))   #input number  \n",
    "if number%2==0: #if remainder is zero then it is even\n",
    "    print(number,'is even')\n",
    "else:\n",
    "    print(number,'is odd')"
   ]
  },
  {
   "cell_type": "markdown",
   "metadata": {},
   "source": [
    "Intermediate Level:\n",
    "11.Write a program that calculates the roots of a quadratic equation .\n",
    "12.Create a program that determines the day of the week based on the day number (1-7).\n",
    "13.Develop a program that calculates the factorial of a given number using recursion.\n",
    "14.Write a program to find the largest among three numbers without using the `max()` function.\n",
    "15.Create a program that simulates a basic ATM transaction menu.\n",
    "16.Build a program that checks if a given string is a palindrome or not.\n",
    "17.Write a program that calculates the average of a list of numbers, excluding the smallest and largest values.\n",
    "18.Develop a program that converts a given temperature from Celsius to Fahrenheit.\n",
    "19.Create a program that simulates a basic calculator for addition, subtraction, multiplication, and division.\n",
    "20.Write a program that determines the roots of a cubic equation using the Cardano formula."
   ]
  },
  {
   "cell_type": "code",
   "execution_count": 5,
   "metadata": {},
   "outputs": [
    {
     "name": "stdout",
     "output_type": "stream",
     "text": [
      "Ax^2+BX+C\n",
      "\n",
      "Enter A value:1\n",
      "Enter B value:3\n",
      "Enter C value:-4\n",
      "roots of quadratic equation: 1.0 -4.0\n"
     ]
    }
   ],
   "source": [
    "print('Ax^2+BX+C\\n')\n",
    "A=int(input('Enter A value:'))\n",
    "B=int(input('Enter B value:'))   #taking input from user\n",
    "C=int(input('Enter C value:'))\n",
    "D=B*B-4*A*C\n",
    "D1=D**0.5#discriminant\n",
    "if D1>0:\n",
    "    r1=(-B+D1)/2*A   #-b+-root (b62-4ac)/2a\n",
    "    r2=(-B-D1)/2*A\n",
    "    print('roots of quadratic equation:',r1,r2)\n",
    "else:\n",
    "    print('imaginary roots')"
   ]
  },
  {
   "cell_type": "code",
   "execution_count": 2,
   "metadata": {},
   "outputs": [
    {
     "name": "stdin",
     "output_type": "stream",
     "text": [
      "enter a number to obtain day: 5\n"
     ]
    },
    {
     "name": "stdout",
     "output_type": "stream",
     "text": [
      "FRIDAY\n"
     ]
    }
   ],
   "source": [
    "day_no=int(input('enter a number to obtain day:')) # take input from user\n",
    "if day_no==1:\n",
    "    print('MONDAY')\n",
    "elif day_no==2:\n",
    "    print('TUESDAY')\n",
    "elif day_no==3:\n",
    "    print('WEDNESDAY')\n",
    "elif day_no==4:\n",
    "    print('THURSDAY')\n",
    "elif day_no==5:\n",
    "    print('FRIDAY')\n",
    "elif day_no==6:\n",
    "    print('SATURDAY')\n",
    "elif day_no==7:\n",
    "    print('SUNDAY')\n",
    "else:\n",
    "    print('enter values from 1 to 7 only')"
   ]
  },
  {
   "cell_type": "code",
   "execution_count": 4,
   "metadata": {},
   "outputs": [
    {
     "name": "stdin",
     "output_type": "stream",
     "text": [
      "enter a number: 4\n"
     ]
    },
    {
     "name": "stdout",
     "output_type": "stream",
     "text": [
      "24\n"
     ]
    }
   ],
   "source": [
    "def factorial(n): #define fuction\n",
    "    if n == 0 or n == 1: #factorial of 1 or 0 is 1\n",
    "        return 1\n",
    "    else:                  #if not 1 0r 0 then \n",
    "        return n * factorial(n - 1)  #it recursively call factorial function until 1\n",
    "n=int(input('enter a number:'))\n",
    "print(factorial(n))"
   ]
  },
  {
   "cell_type": "code",
   "execution_count": 5,
   "metadata": {},
   "outputs": [
    {
     "name": "stdin",
     "output_type": "stream",
     "text": [
      "enter a number: 23\n",
      "enter a number: 45\n",
      "enter a number: 78\n"
     ]
    },
    {
     "name": "stdout",
     "output_type": "stream",
     "text": [
      "78 is largest\n"
     ]
    }
   ],
   "source": [
    "num1=int(input('enter a number:'))\n",
    "num2=int(input('enter a number:'))\n",
    "num3=int(input('enter a number:'))\n",
    "if num1>num2:\n",
    "    if num1>num3:\n",
    "        print(num1,'is largest')\n",
    "    else:\n",
    "        print(num3,'is largest')\n",
    "else:\n",
    "    if num2>num3:\n",
    "        print(num2,'is largest')\n",
    "    else:\n",
    "        print(num3,'is largest')  "
   ]
  },
  {
   "cell_type": "code",
   "execution_count": 5,
   "metadata": {},
   "outputs": [
    {
     "name": "stdout",
     "output_type": "stream",
     "text": [
      "Welcome to your bank account vanitha\n",
      " \n",
      "\t0.Logout and Exit\n",
      "\t1.View Account Balance\n",
      "\t2.WithDraw Cash\n",
      "\t3.Change PIN\n",
      "\t4.Return Card\n",
      "enter number to proceed->1\n",
      "\n",
      "\n",
      "\n",
      "Enter your 4 digit PIN:9089\n",
      "Account Authorized!\n",
      " \n",
      "\n",
      "Loading Account Balance\n",
      "your current balance RS. 9000.89\n",
      "\n",
      "\t0.Logout and Exit\n",
      "\t1.View Account Balance\n",
      "\t2.WithDraw Cash\n",
      "\t3.Change PIN\n",
      "\t4.Return Card\n",
      "enter number to proceed->2\n",
      "\n",
      "\n",
      "\n",
      "Enter your 4 digit PIN:9089\n",
      "Account Authorized!\n",
      " \n",
      "\n",
      "opening cash withdraw\n",
      "enter the amount you want to widraw:450\n",
      "withdrawing Rs. 450.0\n",
      "confirm? Y?N\ty\n",
      "amount withdraw RS. 450.0\n",
      "Remaining balance RS. 8550.89\n",
      "\t0.Logout and Exit\n",
      "\t1.View Account Balance\n",
      "\t2.WithDraw Cash\n",
      "\t3.Change PIN\n",
      "\t4.Return Card\n",
      "enter number to proceed->0\n",
      "\n",
      "\n",
      "\n",
      "Exiting...\n",
      "you have been loggedout.Thank you\n",
      "\n",
      "\n"
     ]
    }
   ],
   "source": [
    "#ATM Simulation Program\n",
    "import time as t\n",
    "user_name='vanitha'\n",
    "user_pin=9089\n",
    "user_balance=9000.89\n",
    "print('Welcome to your bank account',user_name,end='\\n \\n')\n",
    "while (True):\n",
    "    print('\\t0.Logout and Exit')\n",
    "    print('\\t1.View Account Balance')\n",
    "    print('\\t2.WithDraw Cash')\n",
    "    print('\\t3.Change PIN')\n",
    "    print('\\t4.Return Card')\n",
    "    choice=int(input('enter number to proceed->'))\n",
    "    print('\\n\\n')\n",
    "    if choice==0:\n",
    "        print('Exiting...')\n",
    "        t.sleep(2)\n",
    "        print('you have been loggedout.Thank you\\n\\n')\n",
    "        break\n",
    "    elif choice in (1,2,3,4,5):\n",
    "        num_tries=3\n",
    "        while (num_tries!=0):\n",
    "            input_pin=int(input('Enter your 4 digit PIN:'))\n",
    "            if user_pin==input_pin:\n",
    "                print('Account Authorized!\\n \\n')\n",
    "                if choice==1:\n",
    "                    print('Loading Account Balance')\n",
    "                    t.sleep(1.5)\n",
    "                    print('your current balance RS.',user_balance,end='\\n\\n')\n",
    "                    break\n",
    "                elif choice==2:\n",
    "                    print('opening cash withdraw')\n",
    "                    t.sleep(1.5)\n",
    "                    while(True):\n",
    "                        with_draw=float(input('enter the amount you want to widraw:'))\n",
    "                        if with_draw>user_balance:\n",
    "                            print('Insufficient Balance!\\n\\n')\n",
    "                            print('Enter lower amount')\n",
    "                            continue\n",
    "                        else:\n",
    "                            print('withdrawing Rs.',with_draw)\n",
    "                            confirm=input('confirm? Y?N\\t')\n",
    "                            if confirm in ('Y','y'):\n",
    "                                user_balance=user_balance-with_draw\n",
    "                                print('amount withdraw RS.',with_draw)\n",
    "                                print('Remaining balance RS.',user_balance)\n",
    "                                break\n",
    "                            else:\n",
    "                                print('Cancelling')\n",
    "                                t.sleep(1)\n",
    "                                break\n",
    "                    break\n",
    "                elif choice == 3:\n",
    "                    print(\"Loading Cash Deposit...\")\n",
    "                    t.sleep(1.5)\n",
    "\n",
    "                    deposit_amt = float(input(\"Enter the amount you wish to deposit > \"))\n",
    "                    print(\"Depositing Rs.\", deposit_amt)\n",
    "                    confirm = input(\"Confirm? Y/N\")\n",
    "                    if confirm in ('Y', 'y'): \n",
    "                        user_balance+=deposit_amt\n",
    "                        print(\"Amount deposited - Rs.\",deposit_amt)\n",
    "                        print(\"Updated balance - Rs.\",user_balance, end = \"\\n\\n\\n\")\n",
    "                    else:\n",
    "                        print(\"Cancelling transaction...\")\n",
    "                        t.sleep(1)\n",
    "                        print(\"Transaction Cancelled!\\n\\n\")\n",
    "                                \n",
    "                    break\n",
    "                elif choice == 4:\n",
    "                    print(\"Loading PIN Change...\")\n",
    "                    t.sleep(1.5)\n",
    "\n",
    "                    pin_new = int(input(\"Enter your new PIN > \"))\n",
    "\n",
    "                    print(\"Changing PIN to\", pin_new)\n",
    "                    confirm = input(\"Confirm? Y/N > \")\n",
    "                    if confirm in ('Y', 'y'): \n",
    "                        user_pin = pin_new\n",
    "                        print(\"PIN changed successfully! \\n\\n\")\n",
    "                    else:\n",
    "                        print(\"Cancelling PIN change...\")\n",
    "                        t.sleep(1)\n",
    "                        print(\"Process Cancelled!\\n\\n\")\n",
    "\n",
    "                    break\n",
    "\n",
    "                else:\n",
    "                    print(\"Loading Card Return...\")\n",
    "                    t.sleep(1.5)\n",
    "\n",
    "                    print(\"Returning your ATM Card\")\n",
    "                    confirm = input(\"Confirm? Y/N > \")\n",
    "                    if confirm in ('Y', 'y'): \n",
    "                        print(\"Card returned successfully! \\n\\n\")\n",
    "                    else:\n",
    "                        print(\"Cancelling process...\")\n",
    "                        t.sleep(1)\n",
    "                        print(\"Process Cancelled!\\n\\n\")\n",
    "\n",
    "                    break\n",
    "            else:\n",
    "                num_of_tries-=1\n",
    "                print(\"PIN incorrect! Number of tries left -\", num_of_tries, end = \"\\n\\n\")   \n",
    "\n",
    "        else:\n",
    "            print(\"Exiting...\")\n",
    "            t.sleep(2)\n",
    "            print(\"You have been logged out. Thank you!\\n\\n\")\n",
    "            break\n",
    "            \n",
    "    else:\n",
    "        print(\"Invalid input!\")\n",
    "        print(\"\\t\\t0. Enter 0 to Logout and Exit!\")\n",
    "        continue "
   ]
  },
  {
   "cell_type": "code",
   "execution_count": 27,
   "metadata": {},
   "outputs": [
    {
     "name": "stdout",
     "output_type": "stream",
     "text": [
      "Enter the number of elements you enter: 6\n",
      "Enter element: 1\n",
      "Enter element: 2\n",
      "Enter element: 4\n",
      "Enter element: 5\n",
      "Enter element: 3\n",
      "Enter element: 8\n",
      "[1, 2, 3, 4, 5, 8]\n",
      "[2, 3, 4, 5]\n",
      "Average of elements in the list 3.5\n"
     ]
    }
   ],
   "source": [
    "n=int(input(\"Enter the number of elements you enter: \"))\n",
    "t=n\n",
    "a=[]\n",
    "for i in range(0,n):\n",
    "    elem=int(input(\"Enter element: \"))\n",
    "    a.append(elem)\n",
    "a.sort()\n",
    "print(a)\n",
    "a=a[1:t-1]\n",
    "print(a)\n",
    "avg=sum(a)/(t-2)\n",
    "print(\"Average of elements in the list\",avg)"
   ]
  },
  {
   "cell_type": "code",
   "execution_count": 6,
   "metadata": {},
   "outputs": [
    {
     "name": "stdin",
     "output_type": "stream",
     "text": [
      "enter a string: vanitha\n"
     ]
    },
    {
     "name": "stdout",
     "output_type": "stream",
     "text": [
      "vanitha is not palindrome\n"
     ]
    }
   ],
   "source": [
    "string=input('enter a string:') #input string\n",
    "rev_str=''     #empty string\n",
    "for i in string:\n",
    "    rev_str=i+rev_str\n",
    "if rev_str==string:\n",
    "    print(string,'is palindrome')\n",
    "else:\n",
    "    print(string,'is not palindrome')"
   ]
  },
  {
   "cell_type": "code",
   "execution_count": 7,
   "metadata": {},
   "outputs": [
    {
     "name": "stdout",
     "output_type": "stream",
     "text": [
      "Enter the Temperature in Celsius :24\n",
      "Temperature in Fahrenheit : 75.2\n"
     ]
    }
   ],
   "source": [
    "celsius = int(input(\"Enter the Temperature in Celsius :\")) #take in input in celsius\n",
    "fahrenheit = (1.8 * celsius) + 32.\n",
    "print(\"Temperature in Fahrenheit :\", fahrenheit)"
   ]
  },
  {
   "cell_type": "code",
   "execution_count": 1,
   "metadata": {},
   "outputs": [
    {
     "name": "stdout",
     "output_type": "stream",
     "text": [
      "Please select operation\n",
      " 1. Add\n",
      "2. Subtract\n",
      " 3. Multiply\n",
      " 4. Divide\n",
      "\n",
      "Select operations form 1, 2, 3, 4 :1\n",
      "Enter first number: 34\n",
      "Enter second number: 67\n",
      "34 + 67 = 101\n"
     ]
    }
   ],
   "source": [
    "# Python program for simple calculator\n",
    "def add(num1, num2):   # Function to add two numbers\n",
    "    return num1 + num2 \n",
    "def subtract(num1, num2): # Function to subtract two numbers\n",
    "    return num1 - num2\n",
    "def multiply(num1, num2):# Function to multiply two numbers\n",
    "    return num1 * num2\n",
    "def divide(num1, num2):# Function to divide two numbers\n",
    "    return num1 / num2\n",
    "print(\"Please select operation\\n 1. Add\\n2. Subtract\\n 3. Multiply\\n 4. Divide\\n\")\n",
    "choice= int(input(\"Select operations form 1, 2, 3, 4 :\"))   # Take input from the user\n",
    "num_1 = int(input(\"Enter first number: \"))\n",
    "num_2= int(input(\"Enter second number: \"))\n",
    "if choice==1:\n",
    "    print(num_1, \"+\",num_2,\"=\",add(num_1,num_2))\n",
    "elif choice==2:\n",
    "    print(num_1,\"-\",num_2,\"=\",subtract(num_1,num_2))\n",
    "elif choice==3:\n",
    "    print(num_1,\"*\",num_2,\"=\",multiply(num_1,num_2))\n",
    "elif choice==4:\n",
    "    print(num_1,\"/\",number_2,\"=\",divide(num_1,num_2))\n",
    "else:\n",
    "    print(\"Invalid input\")"
   ]
  },
  {
   "cell_type": "code",
   "execution_count": 8,
   "metadata": {},
   "outputs": [
    {
     "name": "stdout",
     "output_type": "stream",
     "text": [
      "ax^3+bx^2+cx+d=0\n",
      "1 3 5 7\n",
      "{(-0.4102454876985414+1.744543250922657j), (-0.41024548769854186-1.7445432509226573j), (-2.1795090246029165+2.220446049250313e-16j)}\n"
     ]
    }
   ],
   "source": [
    "from cmath import *\n",
    "solutions = set()\n",
    "def cbrt(polynomial):\n",
    "    solution = set()\n",
    "    root1 = polynomial ** (1 / 3)\n",
    "    root2 = (polynomial ** (1 / 3)) * (-1 / 2 + (sqrt(3) * 1j) / 2)\n",
    "    root3 = (polynomial ** (1 / 3)) * (-1 / 2 - (sqrt(3) * 1j) / 2)\n",
    "    solution.update({root1, root2, root3})\n",
    "    return solution\n",
    "print('ax^3+bx^2+cx+d=0')\n",
    "a, b, c, d = map(complex, input().split())\n",
    "if a != 0:\n",
    "    p = (3 * a * c - b ** 2) / (3 * a ** 2)\n",
    "    q = (2 * b ** 3 - 9 * a * b * c + 27 * a ** 2 * d) / (27 * a ** 3)\n",
    "    alpha = cbrt(-q / 2 + sqrt((q / 2) ** 2 + (p / 3) ** 3))\n",
    "    beta = cbrt(-q / 2 - sqrt((q / 2) ** 2 + (p / 3) ** 3))\n",
    "    for i in alpha:\n",
    "        for j in beta:\n",
    "            if abs((i * j) + p / 3) <= 0.00001:\n",
    "                x = i + j - b / (3 * a)\n",
    "                solutions.add(x)\n",
    "elif b != 0:\n",
    "    D = c ** 2 - 4 * b * d\n",
    "    solutions.add((-c - sqrt(D)) / 2 * b)\n",
    "    solutions.add((-c + sqrt(D)) / 2 * b)\n",
    "elif c != 0:\n",
    "    solutions.add(-d / c)\n",
    "elif d == 0:\n",
    "    solutions.add(\"True\")\n",
    "else:\n",
    "    solutions.add(\"False\")\n",
    "print(solutions)"
   ]
  },
  {
   "cell_type": "markdown",
   "metadata": {},
   "source": [
    "Advanced Level:\n",
    "21.Create a program that calculates the income tax based on the user's income and tax brackets.\n",
    "22.Write a program that simulates a rock-paper-scissors game against the computer.\n",
    "23.Develop a program that generates a random password based on user preferences (length, complexity).\n",
    "24.Create a program that implements a simple text-based adventure game with branching scenarios.\n",
    "25.Build a program that solves a linear equation for x, considering different cases.\n",
    "26.Write a program that simulates a basic quiz game with multiple-choice questions and scoring.\n",
    "27.Develop a program that determines whether a given year is a prime number or not.\n",
    "28.Create a program that sorts three numbers in ascending order using conditional statements.\n",
    "29.Build a program that determines the roots of a quartic equation using numerical methods.\n",
    "30.Write a program that calculates the BMI (Body Mass Index) and provides health recommendations based on the user's input."
   ]
  },
  {
   "cell_type": "code",
   "execution_count": 2,
   "metadata": {},
   "outputs": [
    {
     "name": "stdout",
     "output_type": "stream",
     "text": [
      "Enter your income $:560000\n",
      "your 18500.0 Rupees in tax!\n"
     ]
    }
   ],
   "source": [
    "income=int(input('Enter your income $:'))\n",
    "if income <= 250000:  #2 Lakh 50 thousand\n",
    "    tax = 0\n",
    "elif income <=500000: #5 Lakh\n",
    "    tax = (income-250000) * 0.05\n",
    "elif income <= 750000: #7 lakh 50 thousand\n",
    "    tax = (income-500000) * 0.10 + 12500 \n",
    "elif income <= 1000000: #10 Lakh\n",
    "    tax = (income - 750000) * 0.15 + 37500 \n",
    "elif income <= 1250000: #12 lakh 50 thousand\n",
    "    tax = (income - 1000000) * 0.20 + 75000 \n",
    "elif income <= 1500000: #15 lakh\n",
    "    tax = (income - 1250000) * 0.25 + 125000 \n",
    "else:\n",
    "    tax = (income - 1500000) * 0.30 + 187500\n",
    "print(\"your\", tax, \"Rupees in tax!\")"
   ]
  },
  {
   "cell_type": "code",
   "execution_count": 1,
   "metadata": {},
   "outputs": [
    {
     "name": "stdout",
     "output_type": "stream",
     "text": [
      "Rock,Paper,Scissor?Stop:Rock\n",
      "Yahoo You win! Rock smashes Scissor\n",
      "Rock,Paper,Scissor?Stop:Scisssor\n",
      "That's not a valid play.Check the spelling!\n",
      "Rock,Paper,Scissor?Stop:Scissor\n",
      "Tie\n",
      "Rock,Paper,Scissor?Stop:Rock\n",
      "Yahoo You win! Rock smashes Scissor\n",
      "Rock,Paper,Scissor?Stop:Paper\n",
      "You lose! Scissor cuts Paper\n",
      "Rock,Paper,Scissor?Stop:Rock\n",
      "Yahoo You win! Rock smashes Scissor\n",
      "Rock,Paper,Scissor?Stop:Scissor\n",
      "You lose... Rock smashes Scissor\n",
      "Rock,Paper,Scissor?Stop:Paper\n",
      "Tie\n",
      "Rock,Paper,Scissor?Stop:Paper\n",
      "Tie\n",
      "Rock,Paper,Scissor?Stop:Rock\n",
      "Yahoo You win! Rock smashes Scissor\n",
      "Rock,Paper,Scissor?Stop:Stop\n"
     ]
    }
   ],
   "source": [
    "import random   #Import random module\n",
    "play=['Rock','Paper','Scissor']\n",
    "#Assign a random play to the system \n",
    "computer = play[random.randint(0,2)] \n",
    "#Set the player to False \n",
    "player = False\n",
    "while player==False:\n",
    "    player=input('Rock,Paper,Scissor?Stop:')\n",
    "    if player==computer:\n",
    "        print('Tie')\n",
    "    elif player=='Rock':\n",
    "        if computer=='Paper':\n",
    "            print('oops you lost...',computer,'cover',player)\n",
    "        else:\n",
    "            print('Yahoo You win!', player,'smashes', computer)\n",
    "    elif player=='Paper':\n",
    "        if computer=='Scissor':\n",
    "            print(\"You lose!\",computer,\"cuts\",player) \n",
    "        else: \n",
    "            print(\"You win!\",player,\"covers\",computer)\n",
    "    elif player==\"Scissor\": \n",
    "        if computer==\"Rock\": \n",
    "            print(\"You lose...\",computer,\"smashes\",player) \n",
    "        else: \n",
    "            print(\"You win!\",player,\"cuts\",computer) \n",
    "    elif player=='Rock':\n",
    "        if computer=='Scissor':\n",
    "             print('Yahoo You win!', player,'covers', computer)  \n",
    "        else:\n",
    "            print('oops you lost...',compuer,'smashes',player)\n",
    "    elif player=='Paper':\n",
    "        if computer=='Rock':\n",
    "            print(\"You win!\",player,\"covers\",computer)\n",
    "        else: \n",
    "            print(\"You lose!\",computer,\"cuts\",player) \n",
    "    elif player==\"Scissor\": \n",
    "        if computer==\"Paper\":\n",
    "            print(\"You win!\",player,\"cuts\",computer)\n",
    "        else: \n",
    "            print(\"You lose...\",computer,\"smashes\",player) \n",
    "    else:\n",
    "        if player=='Stop':\n",
    "            break\n",
    "        else:\n",
    "            print(\"That's not a valid play.Check the spelling!\")      \n",
    "    player=False\n",
    "    computer=play[random.randint(0,2)]"
   ]
  },
  {
   "cell_type": "code",
   "execution_count": 2,
   "metadata": {},
   "outputs": [
    {
     "name": "stdout",
     "output_type": "stream",
     "text": [
      "Enter password length: 10\n",
      "Choose character set for password from these\n",
      "1. Digits\n",
      "2.Letters\n",
      "3.Special characters\n",
      "4.Exit\n",
      "Enter password size:3\n",
      "Enter password size:2\n",
      "Enter password size:1\n",
      "Enter password size:4\n",
      "The random password:{d/yp|YIcb\n"
     ]
    }
   ],
   "source": [
    "import string\n",
    "import random #import required madules\n",
    "length = int(input(\"Enter password length: \"))   # Getting password length\n",
    "print('Choose character set for password from these\\n1. Digits\\n2.Letters\\n3.Special characters\\n4.Exit')\n",
    "charlist=\"\"\n",
    "# Getting characters for password\n",
    "while(True):\n",
    "    choice = int(input(\"Enter password size:\"))\n",
    "    if(choice == 1):\n",
    "        charlist+= string.ascii_letters    # Adding letters to possible characters\n",
    "    elif(choice == 2):\n",
    "        charlist+= string.digits          # Adding digits to possible characters\n",
    "    elif(choice == 3):\n",
    "        charlist+= string.punctuation # Adding special characters to possible\n",
    "    elif(choice == 4):\n",
    "        break\n",
    "    else:\n",
    "        print(\"Please pick a valid option!\")\n",
    "password = []\n",
    "for i in range(length):\n",
    "    randomchar = random.choice(charlist)      # Picking a random character from ourcharlist\n",
    "    password.append(randomchar)  # appending a random character to password\n",
    "# printing password as a string\n",
    "print(\"The random password:\"+\"\".join(password))"
   ]
  },
  {
   "cell_type": "code",
   "execution_count": null,
   "metadata": {},
   "outputs": [],
   "source": [
    "while True:\n",
    "    answer=input('Would you like to play?(yes/no)')\n",
    "    if answer=='yes':\n",
    "        answer=input('you reach a crossroads,would you like to left or right')\n",
    "        if answer=='left':\n",
    "            answer=input('You encounter a monster,would you like to run or attack:')\n",
    "            if answer=='attack':\n",
    "                print('this was not greatest idea,you lost!')\n",
    "            else:\n",
    "                print('good choice,you made it away safely')\n",
    "            answer=input('there is car would you like to take:(yes/no)')\n",
    "            if answer=='yes':\n",
    "                print('you made good choice play well')\n",
    "            else:\n",
    "                print('you took bad choice!')\n",
    "            answer=input('there is fruits for energy to walk,do want to take:catch/leave:')\n",
    "            if answer=='catch':\n",
    "                print('you got 20 fruits')\n",
    "            else:\n",
    "                print('oops,you missed!')\n",
    "        elif answer=='right':\n",
    "            print('you walk aimlessly you fall on ice patch,you are injured,can not play')\n",
    "        else:\n",
    "            print('invalid input')\n",
    "    else:\n",
    "        ('bad idea,>>')\n",
    "        break\n",
    "        "
   ]
  },
  {
   "cell_type": "code",
   "execution_count": 3,
   "metadata": {},
   "outputs": [
    {
     "name": "stdout",
     "output_type": "stream",
     "text": [
      "---------------------------------------------\n",
      "Is the earth roud?\n",
      "A.Yes\n",
      "B.No\n",
      "C.Sometimes\n",
      "D.May be\n",
      "Enter (A,B,C,D):A\n",
      "CORRECT!\n",
      "---------------------------------------------\n",
      "What is capital city of Japan?\n",
      "A.Tokyo\n",
      "B.Berlin\n",
      "C.Delhi\n",
      "D.Mumbai\n",
      "Enter (A,B,C,D):A\n",
      "CORRECT!\n",
      "---------------------------------------------\n",
      "Which animal lays the largest eggs?\n",
      "A.Whale\n",
      "B.Crocodile\n",
      "C.Elephant\n",
      "D.Ostritch\n",
      "Enter (A,B,C,D):C\n",
      "INCORRECT!\n",
      "D is the correct answer\n",
      "---------------------------------------------\n",
      "Which planet in the solar system is the hottest\n",
      "A.Earth\n",
      "B.Mercury\n",
      "C.Venus\n",
      "D.Mars\n",
      "Enter (A,B,C,D):C\n",
      "CORRECT!\n",
      "---------------------------------------------\n",
      "Who is the richest person in india?\n",
      "A.Billigates\n",
      "B.Ambani\n",
      "C.Sudharpichai\n",
      "D.Elonmusk\n",
      "Enter (A,B,C,D):D\n",
      "CORRECT!\n",
      "---------------------------\n",
      "        RESULTS          \n",
      "answers:AADCD\n",
      "guesses:AACCD\n",
      "your score is:80%\n"
     ]
    }
   ],
   "source": [
    "questions=('Is the earth roud?',\n",
    "          'What is capital city of Japan?',\n",
    "          'Which animal lays the largest eggs?',\n",
    "          'Which planet in the solar system is the hottest',\n",
    "          'Who is the richest person in india?')\n",
    "options=(('A.Yes','B.No','C.Sometimes','D.May be'),\n",
    "        ('A.Tokyo','B.Berlin','C.Delhi','D.Mumbai'),\n",
    "        ('A.Whale','B.Crocodile','C.Elephant','D.Ostritch'),\n",
    "         ('A.Earth','B.Mercury','C.Venus','D.Mars'),\n",
    "        ('A.Billigates','B.Ambani','C.Sudharpichai','D.Elonmusk'))\n",
    "answers=('A','A','D','C','D')\n",
    "guesses=[]\n",
    "score=0\n",
    "Question_num=0\n",
    "for question in questions:\n",
    "    print('---------------------------------------------')\n",
    "    print(question)\n",
    "    for option in options[Question_num]:\n",
    "        print(option)\n",
    "    guess=input('Enter (A,B,C,D):').upper()\n",
    "    guesses.append(guess)\n",
    "    if guess==answers[Question_num]:\n",
    "        score=score+1\n",
    "        print('CORRECT!')\n",
    "    else:\n",
    "        print('INCORRECT!')\n",
    "        print(f'{answers[Question_num]} is the correct answer')\n",
    "    Question_num+=1\n",
    "print('---------------------------')\n",
    "print('        RESULTS          ')\n",
    "print('answers:',end='')\n",
    "for answer in answers:\n",
    "    print(answer,end='')\n",
    "()\n",
    "print('\\nguesses:',end='')\n",
    "for guess in guesses:\n",
    "    print(guess,end='')\n",
    "print()\n",
    "score=int(score/len(guesses)*100)\n",
    "print(f'your score is:{score}%')"
   ]
  },
  {
   "cell_type": "code",
   "execution_count": 6,
   "metadata": {},
   "outputs": [
    {
     "name": "stdout",
     "output_type": "stream",
     "text": [
      "Enter Year: 2000\n",
      "Year isn't prime\n"
     ]
    }
   ],
   "source": [
    "year=int(input(\"Enter Year: \"))\n",
    "count=0\n",
    "for i in range(2,year//2+1):\n",
    "    if(year%i==0):\n",
    "        count=count+1\n",
    "if(count<=0):\n",
    "    print(\"Year is prime\")\n",
    "else:\n",
    "    print(\"Year isn't prime\")"
   ]
  },
  {
   "cell_type": "code",
   "execution_count": 1,
   "metadata": {},
   "outputs": [
    {
     "name": "stdout",
     "output_type": "stream",
     "text": [
      "Enter a: 34\n",
      "Enter b: 54\n",
      "Enter c: 209\n",
      "34.0 < 54.0 < 209.0\n",
      "-----------------------------------------------------------------\n",
      "Enter a: 54\n",
      "Enter b: 89\n",
      "Enter c: 76\n",
      "54.0 < 76.0 < 89.0\n"
     ]
    }
   ],
   "source": [
    "a = float(input(\"Enter a: \"))\n",
    "b = float(input(\"Enter b: \"))\n",
    "c = float(input(\"Enter c: \"))\n",
    "if a <b:\n",
    "    if b<c:\n",
    "        print (a,\"<\",b,\"<\",c)\n",
    "    else:\n",
    "        if a<c:\n",
    "            print (a,\"<\",c,\"<\",b)\n",
    "        else:\n",
    "            print (c,\"<\",a,\"<\",b)\n",
    "else:\n",
    "    if c < b:\n",
    "        print (c,\"<\",b,\"<\",a)\n",
    "    else:\n",
    "        if c < a:\n",
    "            print (b,\"<\",c,\"<\",a)\n",
    "        else:\n",
    "            print (b,\"<\",a,\"<\",c)\n",
    "            \n",
    "print('-----------------------------------------------------------------')\n",
    "a = float(input(\"Enter a: \"))\n",
    "b = float(input(\"Enter b: \"))\n",
    "c = float(input(\"Enter c: \"))\n",
    "if a > c:\n",
    "    a = a + c\n",
    "    c = a - c\n",
    "    a = a - c  \n",
    "if a > b:\n",
    "    a = a + b\n",
    "    b = a - b\n",
    "    a = a - b\n",
    "if b > c:\n",
    "    b = b + c\n",
    "    c = b - c\n",
    "    b = b - c\n",
    "print (a, \"<\", b, \"<\", c)"
   ]
  },
  {
   "cell_type": "code",
   "execution_count": 1,
   "metadata": {},
   "outputs": [
    {
     "name": "stdout",
     "output_type": "stream",
     "text": [
      "Roots of the quartic equation: [0.3819659919928586, 0.3819659915243357, 0.3819659901489411, 0.3819660259405574, 2.6180339360796245]\n"
     ]
    }
   ],
   "source": [
    "import numpy as np\n",
    "from scipy.optimize import newton\n",
    "# Define your quartic equation in the form: ax^4 + bx^3 + cx^2 + dx + e = 0\n",
    "# Modify these coefficients accordingly.\n",
    "a = 1.0\n",
    "b = -6.0\n",
    "c = 11.0\n",
    "d = -6.0\n",
    "e = 1.0\n",
    "# Define the quartic function\n",
    "def quartic(x):\n",
    "    return a * x**4 + b * x**3 + c * x**2 + d * x + e\n",
    "# Find roots using the Newton-Raphson method\n",
    "initial_guesses = [-2.0, -1.0, 0.0, 1.0, 2.0]  # Initial guesses for roots\n",
    "roots = []\n",
    "for guess in initial_guesses:\n",
    "    root = newton(quartic, guess)\n",
    "    roots.append(root)\n",
    "print(\"Roots of the quartic equation:\", roots)"
   ]
  },
  {
   "cell_type": "code",
   "execution_count": 6,
   "metadata": {},
   "outputs": [
    {
     "name": "stdout",
     "output_type": "stream",
     "text": [
      "Enter the coefficient 'a': 4\n",
      "Enter the coefficient 'b': 9\n",
      "Solution: x = -2.25\n"
     ]
    }
   ],
   "source": [
    "# Input coefficients a and b\n",
    "a = float(input(\"Enter the coefficient 'a': \"))\n",
    "b = float(input(\"Enter the coefficient 'b': \"))\n",
    "# Check different cases of linear equations\n",
    "if a == 0:\n",
    "    if b == 0:\n",
    "        print(\"Infinite solutions: 0 = 0 (Identity)\")\n",
    "    else:\n",
    "        print(\"No solution: 0 =\", b, \"(Contradiction)\")\n",
    "else:\n",
    "    x = -b / a\n",
    "    print(\"Solution: x =\", x)"
   ]
  },
  {
   "cell_type": "code",
   "execution_count": 5,
   "metadata": {},
   "outputs": [
    {
     "name": "stdout",
     "output_type": "stream",
     "text": [
      "enter your weigth:42\n",
      "enter your height:167\n",
      "Underweight\n",
      "you need to care about your health,taking protien food,milk,eggs,friuts...\n",
      " visit healthcare websites and follow those steps gain some weight\n"
     ]
    }
   ],
   "source": [
    "#bmi\n",
    "weight = int(input(\"enter your weigth:\"));\n",
    "height = int(input(\"enter your height:\"));\n",
    "x=weight/float(height*height);\n",
    "if x<18.5:\n",
    "    print('Underweight')\n",
    "    print('you need to care about your health,taking protien food,milk,eggs,friuts...\\n visit healthcare websites and follow those steps gain some weight')\n",
    "if x>=18.5 and x<25:\n",
    "    print(\"Normal\")\n",
    "    print('your perfect,no need to worry about your weight and maintain likethis.')\n",
    "if x>=25 and x<30:\n",
    "    print('Overweight')\n",
    "    print('you need to do excersises,maintain diet...')\n",
    "if x>=30:\n",
    "    print('Obesity you must take care about your heath')"
   ]
  },
  {
   "cell_type": "markdown",
   "metadata": {},
   "source": [
    "Challenge Level:\n",
    "31.Create a program that validates a password based on complexity rules (length, characters, etc.).\n",
    "32.Develop a program that performs matrix addition and subtraction based on user input.\n",
    "33.Write a program that calculates the greatest common divisor (GCD) of two numbers using the Euclidean\n",
    "algorithm.\n",
    "34.Build a program that performs matrix multiplication using nested loops and conditional statements.\n",
    "35.Create a program that simulates a basic text-based tic-tac-toe game against the computer.\n",
    "36.Write a program that generates Fibonacci numbers up to a specified term using iterative methods.\n",
    "37.Develop a program that calculates the nth term of the Fibonacci sequence using memoization.\n",
    "38.Create a program that generates a calendar for a given month and year using conditional statements.\n",
    "39.Build a program that simulates a basic text-based blackjack game against the computer.\n",
    "40.Write a program that generates the prime factors of a given number using trial division."
   ]
  },
  {
   "cell_type": "code",
   "execution_count": 19,
   "metadata": {},
   "outputs": [
    {
     "name": "stdout",
     "output_type": "stream",
     "text": [
      "True\n"
     ]
    }
   ],
   "source": [
    "def isvalid_pass(password):\n",
    "    if(len(password)>5 and len(password)<15):\n",
    "        lowerCase=False   #setting all are false\n",
    "        upperCase=False\n",
    "        num=False\n",
    "        special=False\n",
    "        for char in password:\n",
    "            if(char.isdigit()):   #check digits are in password\n",
    "                num=True\n",
    "            elif(char.islower()):  #checking lowercase letters in password or not\n",
    "                lowerCase=True\n",
    "            elif (char.isupper()):   #checking uppercase letters are in password or not\n",
    "                upperCase=True\n",
    "            elif (not char.isalnum()):   #checking special characters are not\n",
    "                special=True\n",
    "        return lowerCase and upperCase and num and special  #if all present it's True\n",
    "    else:\n",
    "        return False              #False if padssword is incorrect\n",
    "InputPassword='Vanitha%89'\n",
    "print(isvalid_pass(InputPassword))"
   ]
  },
  {
   "cell_type": "code",
   "execution_count": 3,
   "metadata": {},
   "outputs": [
    {
     "name": "stdout",
     "output_type": "stream",
     "text": [
      "enter a number of rows:2\n",
      "enter number of columns:2\n",
      "enter the elements for matrix1:\n",
      "1\n",
      "3\n",
      "4\n",
      "5\n",
      "1  3  \n",
      "4  5  \n",
      "enter the elements for matrix2:\n",
      "1\n",
      "2\n",
      "3\n",
      "4\n",
      "1  2  \n",
      "3  4  \n",
      "addition of two matrices result\n",
      "\n",
      "2 5 \n",
      "7 9 \n",
      "subtraction of two matrices result\n",
      "\n",
      "0    1    \n",
      "1    1    \n"
     ]
    }
   ],
   "source": [
    "row=int(input('enter a number of rows:'))\n",
    "columns=int(input('enter number of columns:'))\n",
    "print('enter the elements for matrix1:')\n",
    "matrix1=[[int(input()) for i in range(columns)] for j in range(row)]\n",
    "for i in range(row):\n",
    "    for j in range(columns):\n",
    "        print(format(matrix1[i][j],'<3'),end='')\n",
    "    print()\n",
    "print('enter the elements for matrix2:')\n",
    "matrix2=[[int(input()) for i in range(columns)] for j in range(row)]\n",
    "for i in range(row):\n",
    "    for j in range(columns):\n",
    "        print(format(matrix2[i][j],'<3'),end='')\n",
    "    print()\n",
    "add_result=[[0 for i in range(columns)] for j in range(row)]\n",
    "for i in range(row):\n",
    "    for j in range(columns):\n",
    "        add_result[i][j]=matrix1[i][j]+matrix2[i][j]\n",
    "print('addition of two matrices result\\n')\n",
    "for i in range(row):\n",
    "    for j in range(columns):\n",
    "        print(add_result[i][j],end=' ')\n",
    "    print()\n",
    "sub_result=[[0 for i in range(columns)] for j in range(row)]\n",
    "for i in range(row):\n",
    "    for j in range(columns):\n",
    "        sub_result[i][j]=matrix1[i][j]-matrix2[i][j]\n",
    "print('subtraction of two matrices result\\n')\n",
    "for i in range(row):\n",
    "    for j in range(columns):\n",
    "        print(format(sub_result[i][j],'<3'),end='  ')\n",
    "    print()        "
   ]
  },
  {
   "cell_type": "code",
   "execution_count": 7,
   "metadata": {},
   "outputs": [
    {
     "name": "stdout",
     "output_type": "stream",
     "text": [
      "Enter the first number: 12\n",
      "Enter the second number: 18\n",
      "Greatest Common Divisor (GCD) of 12 and 18 is: 6\n"
     ]
    }
   ],
   "source": [
    "def gcd_euclidean(a, b):\n",
    "    while b:\n",
    "        a, b = b, a % b\n",
    "    return a\n",
    "# Input two numbers from the user\n",
    "num1 = int(input(\"Enter the first number: \"))\n",
    "num2 = int(input(\"Enter the second number: \"))\n",
    "#Calculate and display the GCD\n",
    "gcd = gcd_euclidean(num1, num2)\n",
    "print(\"Greatest Common Divisor (GCD) of\", num1, \"and\", num2, \"is:\", gcd)"
   ]
  },
  {
   "cell_type": "code",
   "execution_count": 6,
   "metadata": {},
   "outputs": [
    {
     "name": "stdout",
     "output_type": "stream",
     "text": [
      "enter a number of rows:2\n",
      "enter number of columns:2\n",
      "enter column in matrix1/row in matrix2:2\n",
      "enter the elements for matrix1:\n",
      "1\n",
      "2\n",
      "3\n",
      "4\n",
      "1  2  \n",
      "3  4  \n",
      "enter the elements for matrix2:\n",
      "1\n",
      "2\n",
      "3\n",
      "4\n",
      "1  2  \n",
      "3  4  \n",
      "result:\n",
      "\n",
      "7    10   \n",
      "15   22   \n"
     ]
    }
   ],
   "source": [
    "p=int(input('enter a number of rows:'))\n",
    "q=int(input('enter number of columns:'))\n",
    "n=int(input('enter column in matrix1/row in matrix2:'))\n",
    "print('enter the elements for matrix1:')\n",
    "matrix1=[[int(input()) for i in range(n)] for j in range(p)]\n",
    "for i in range(p):\n",
    "    for j in range(n):\n",
    "        print(format(matrix1[i][j],'<3'),end='')\n",
    "    print()\n",
    "print('enter the elements for matrix2:')\n",
    "matrix2=[[int(input()) for i in range(q)] for j in range(n)]\n",
    "for i in range(n):\n",
    "    for j in range(q):\n",
    "        print(format(matrix2[i][j],'<3'),end='')\n",
    "    print()\n",
    "result=[[0 for i in range(q)] for j in range(p)]\n",
    "print('result:\\n')\n",
    "for i in range(p):\n",
    "    for j in range(q):\n",
    "        for k in range(n):\n",
    "            result[i][j]=result[i][j]+matrix1[i][k]*matrix2[k][j]\n",
    "for i in range(p):\n",
    "    for j in range(q):\n",
    "        print(format(result[i][j],'<5'),end='')\n",
    "    print()"
   ]
  },
  {
   "cell_type": "code",
   "execution_count": 7,
   "metadata": {},
   "outputs": [
    {
     "name": "stdout",
     "output_type": "stream",
     "text": [
      "Welcome to Tic-Tac-Toe!\n",
      "  |   |  \n",
      "---------\n",
      "  |   |  \n",
      "---------\n",
      "  |   |  \n",
      "---------\n",
      "Enter your move (row and column, e.g., '1 2'): 2 1\n",
      "  |   |  \n",
      "---------\n",
      "  |   |  \n",
      "---------\n",
      "  | X |  \n",
      "---------\n",
      "Computer's turn...\n",
      "O |   |  \n",
      "---------\n",
      "  |   |  \n",
      "---------\n",
      "  | X |  \n",
      "---------\n",
      "Enter your move (row and column, e.g., '1 2'): 0 1\n",
      "O | X |  \n",
      "---------\n",
      "  |   |  \n",
      "---------\n",
      "  | X |  \n",
      "---------\n",
      "Computer's turn...\n",
      "O | X |  \n",
      "---------\n",
      "O |   |  \n",
      "---------\n",
      "  | X |  \n",
      "---------\n",
      "Enter your move (row and column, e.g., '1 2'): 2 2\n",
      "O | X |  \n",
      "---------\n",
      "O |   |  \n",
      "---------\n",
      "  | X | X\n",
      "---------\n",
      "Computer's turn...\n",
      "O | X |  \n",
      "---------\n",
      "O |   |  \n",
      "---------\n",
      "O | X | X\n",
      "---------\n",
      "Player O wins!\n"
     ]
    }
   ],
   "source": [
    "import random\n",
    "def print_board(board):\n",
    "    for row in board:\n",
    "        print(\" | \".join(row))\n",
    "        print(\"-\" * 9)\n",
    "def check_win(board, player):\n",
    "    for row in board:\n",
    "        if all(cell == player for cell in row):\n",
    "            return True\n",
    "    for col in range(3):\n",
    "        if all(row[col] == player for row in board):\n",
    "            return True\n",
    "    if all(board[i][i] == player for i in range(3)) or all(board[i][2 - i] == player for i in range(3)):\n",
    "        return True\n",
    "    return False\n",
    "def is_board_full(board):\n",
    "    return all(cell != \" \" for row in board for cell in row)\n",
    "def get_empty_cells(board):\n",
    "    empty_cells = []\n",
    "    for row in range(3):\n",
    "        for col in range(3):\n",
    "            if board[row][col] == \" \":\n",
    "                empty_cells.append((row, col))\n",
    "    return empty_cells\n",
    "def computer_move(board):\n",
    "    empty_cells = get_empty_cells(board)\n",
    "    return random.choice(empty_cells)\n",
    "def main():\n",
    "    board = [[\" \" for _ in range(3)] for _ in range(3)]\n",
    "    current_player = \"X\"\n",
    "    computer_player = \"O\"\n",
    "    print(\"Welcome to Tic-Tac-Toe!\")\n",
    "    while True:\n",
    "        print_board(board)\n",
    "        if current_player == \"X\":\n",
    "            row, col = map(int, input(\"Enter your move (row and column, e.g., '1 2'): \").split())\n",
    "        else:\n",
    "            print(\"Computer's turn...\")\n",
    "            row, col = computer_move(board)\n",
    "        if board[row][col] == \" \":\n",
    "            board[row][col] = current_player\n",
    "            if check_win(board, current_player):\n",
    "                print_board(board)\n",
    "                print(f\"Player {current_player} wins!\")\n",
    "                break\n",
    "            elif is_board_full(board):\n",
    "                print_board(board)\n",
    "                print(\"It's a tie!\")\n",
    "                break\n",
    "            current_player, computer_player = computer_player, current_player\n",
    "        else:\n",
    "            print(\"That cell is already occupied. Try again.\")\n",
    "if __name__ == \"__main__\":\n",
    "    main()"
   ]
  },
  {
   "cell_type": "code",
   "execution_count": 10,
   "metadata": {},
   "outputs": [
    {
     "name": "stdout",
     "output_type": "stream",
     "text": [
      "Enter the number of Fibonacci terms to generate: 15\n",
      "Fibonacci sequence up to the 15 term(s): [0, 1, 1, 2, 3, 5, 8, 13, 21, 34, 55, 89, 144, 233, 377]\n"
     ]
    }
   ],
   "source": [
    "def generate_fibonacci(n):\n",
    "    fibonacci_sequence = []\n",
    "    if n >= 1:\n",
    "        fibonacci_sequence.append(0)\n",
    "    if n >= 2:\n",
    "        fibonacci_sequence.append(1)\n",
    "    for i in range(2, n):\n",
    "        next_fibonacci = fibonacci_sequence[-1] + fibonacci_sequence[-2]\n",
    "        fibonacci_sequence.append(next_fibonacci)\n",
    "    return fibonacci_sequence\n",
    "# Input the number of terms you want\n",
    "n_terms = int(input(\"Enter the number of Fibonacci terms to generate: \"))\n",
    "# Generate and display the Fibonacci sequence\n",
    "fibonacci_sequence = generate_fibonacci(n_terms)\n",
    "print(\"Fibonacci sequence up to the\", n_terms, \"term(s):\", fibonacci_sequence)"
   ]
  },
  {
   "cell_type": "code",
   "execution_count": 11,
   "metadata": {},
   "outputs": [
    {
     "name": "stdout",
     "output_type": "stream",
     "text": [
      "Enter the term of the Fibonacci sequence to calculate: 10\n",
      "The 10-th term of the Fibonacci sequence is: 55\n"
     ]
    }
   ],
   "source": [
    "# Dictionary to store computed Fibonacci numbers\n",
    "fib_cache = {}\n",
    "def fibonacci(n):\n",
    "    if n in fib_cache:\n",
    "        # Return the cached value if available\n",
    "        return fib_cache[n]\n",
    "    if n <= 1:\n",
    "        # Base case: Fibonacci of 0 and 1 is 0 and 1, respectively\n",
    "        return n\n",
    "    # Recursive case: Calculate Fibonacci using memoization\n",
    "    fib_value = fibonacci(n - 1) + fibonacci(n - 2)\n",
    "    # Cache the computed value\n",
    "    fib_cache[n] = fib_value\n",
    "    return fib_value\n",
    "# Input the term you want to calculate\n",
    "n_term = int(input(\"Enter the term of the Fibonacci sequence to calculate: \"))\n",
    "# Calculate and display the Fibonacci term\n",
    "fib_term = fibonacci(n_term)\n",
    "print(f\"The {n_term}-th term of the Fibonacci sequence is:\", fib_term)"
   ]
  },
  {
   "cell_type": "code",
   "execution_count": 12,
   "metadata": {},
   "outputs": [
    {
     "name": "stdout",
     "output_type": "stream",
     "text": [
      "Enter the year (e.g., 2023): 2004\n",
      "Enter the month (1-12): 12\n",
      "\n",
      "Calendar for 2004-12:\n",
      "   December 2004\n",
      "Mo Tu We Th Fr Sa Su\n",
      "       1  2  3  4  5\n",
      " 6  7  8  9 10 11 12\n",
      "13 14 15 16 17 18 19\n",
      "20 21 22 23 24 25 26\n",
      "27 28 29 30 31\n",
      "\n"
     ]
    }
   ],
   "source": [
    "import calendar\n",
    "def generate_calendar(year,month):\n",
    "    cal = calendar.month(year, month)\n",
    "    return cal\n",
    "def main():\n",
    "    year = int(input(\"Enter the year (e.g., 2023): \"))\n",
    "    month = int(input(\"Enter the month (1-12): \"))\n",
    "    if 1 <= month <= 12:\n",
    "        cal = generate_calendar(year, month)\n",
    "        print(\"\\nCalendar for {}-{:02d}:\".format(year, month))\n",
    "        print(cal)\n",
    "    else:\n",
    "        print(\"Invalid month. Please enter a month between 1 and 12.\")\n",
    "if __name__ == \"__main__\":\n",
    "    main()"
   ]
  },
  {
   "cell_type": "code",
   "execution_count": 14,
   "metadata": {},
   "outputs": [
    {
     "name": "stdout",
     "output_type": "stream",
     "text": [
      "Welcome to Blackjack!\n",
      "\n",
      "Your Hand:\n",
      "J of Hearts\n",
      "3 of Spades\n",
      "\n",
      "Computer's Hand:\n",
      "2 of Hearts and one hidden card\n",
      "\n",
      "Do you want to hit or stand? (h/s): s\n",
      "\n",
      "Computer's Hand:\n",
      "2 of Hearts\n",
      "7 of Diamonds\n",
      "K of Hearts\n",
      "\n",
      "Computer wins!\n"
     ]
    }
   ],
   "source": [
    "import random\n",
    "# Define card values\n",
    "card_values = {\n",
    "    '2': 2, '3': 3, '4': 4, '5': 5,\n",
    "    '6': 6, '7': 7, '8': 8, '9': 9,\n",
    "    '10': 10, 'J': 10, 'Q': 10, 'K': 10,\n",
    "    'A': 11\n",
    "}\n",
    "# Define card suits and ranks\n",
    "suits = ['Hearts', 'Diamonds', 'Clubs', 'Spades']\n",
    "ranks = ['2', '3', '4', '5', '6', '7', '8', '9', '10', 'J', 'Q', 'K', 'A']\n",
    "# Initialize the deck\n",
    "deck = [{'rank': rank, 'suit': suit} for rank in ranks for suit in suits]\n",
    "def deal_card():\n",
    "    return deck.pop(random.randint(0, len(deck) - 1))\n",
    "def calculate_hand_value(hand):\n",
    "    value = sum(card_values[card['rank']] for card in hand)\n",
    "    num_aces = sum(1 for card in hand if card['rank'] == 'A')    \n",
    "    while value > 21 and num_aces > 0:\n",
    "        value -= 10\n",
    "        num_aces -= 1\n",
    "    return value\n",
    "def display_hand(hand):\n",
    "    for card in hand:\n",
    "        print(f\"{card['rank']} of {card['suit']}\")\n",
    "def blackjack():\n",
    "    print(\"Welcome to Blackjack!\")\n",
    "    player_hand = [deal_card(), deal_card()]\n",
    "    computer_hand = [deal_card(), deal_card()]\n",
    "    print(\"\\nYour Hand:\")\n",
    "    display_hand(player_hand)\n",
    "    print(f\"\\nComputer's Hand:\\n{computer_hand[0]['rank']} of {computer_hand[0]['suit']} and one hidden card\")\n",
    "    while True:\n",
    "        player_value = calculate_hand_value(player_hand)\n",
    "        if player_value == 21:\n",
    "            print(\"\\nBlackjack! You win!\")\n",
    "            break\n",
    "        elif player_value > 21:\n",
    "            print(\"\\nBust! You lose.\")\n",
    "            break\n",
    "        action = input(\"\\nDo you want to hit or stand? (h/s): \").strip().lower()\n",
    "        if action == 'h':\n",
    "            player_hand.append(deal_card())\n",
    "            print(\"\\nYour Hand:\")\n",
    "            display_hand(player_hand)\n",
    "        elif action == 's':\n",
    "            while calculate_hand_value(computer_hand) < 17:\n",
    "                computer_hand.append(deal_card())\n",
    "            print(\"\\nComputer's Hand:\")\n",
    "            display_hand(computer_hand)\n",
    "            computer_value = calculate_hand_value(computer_hand)\n",
    "            if computer_value > 21:\n",
    "                print(\"\\nComputer busts! You win!\")\n",
    "            elif computer_value >= player_value:\n",
    "                print(\"\\nComputer wins!\")\n",
    "            else:\n",
    "                print(\"\\nYou win!\")\n",
    "            break\n",
    "        else:\n",
    "            print(\"Invalid input. Please enter 'h' for hit or 's' for stand.\")\n",
    "if __name__ == \"__main__\":\n",
    "    blackjack()\n"
   ]
  },
  {
   "cell_type": "code",
   "execution_count": 5,
   "metadata": {},
   "outputs": [
    {
     "name": "stdout",
     "output_type": "stream",
     "text": [
      "enter a number:34\n",
      "Not Prime number\n"
     ]
    }
   ],
   "source": [
    "# Function to check if a number is\n",
    "# a prime number or not \n",
    "def TrialDivision(N):  \n",
    "    i = 2  #Initializing with the value 2 from where the number is checked \n",
    "    k = int(N ** 0.5)  #computing squareroot\n",
    "    while(i<= k):\n",
    "        if(N % i == 0):    # If any of the numbers between [2, sqrt(N)] is a factor of N Then the number is composite\n",
    "            return 0\n",
    "        i += 1\n",
    "    return 1\n",
    "\n",
    "# Driver code\n",
    "if __name__ == \"__main__\":\n",
    "    N = int(input('enter a number:'))\n",
    "    p=TrialDivision(N)\n",
    "# To check if a number is a prime or not\n",
    "if p==True:\n",
    "    print(\"Prime\")\n",
    "else:\n",
    "    print(\"Not Prime number\")\n"
   ]
  }
 ],
 "metadata": {
  "kernelspec": {
   "display_name": "Python 3",
   "language": "python",
   "name": "python3"
  },
  "language_info": {
   "codemirror_mode": {
    "name": "ipython",
    "version": 3
   },
   "file_extension": ".py",
   "mimetype": "text/x-python",
   "name": "python",
   "nbconvert_exporter": "python",
   "pygments_lexer": "ipython3",
   "version": "3.7.3"
  }
 },
 "nbformat": 4,
 "nbformat_minor": 5
}
