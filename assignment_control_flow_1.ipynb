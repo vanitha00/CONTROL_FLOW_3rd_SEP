{
 "cells": [
  {
   "cell_type": "markdown",
   "metadata": {},
   "source": [
    "1 Write a Python program to check if a given number is positive or negative."
   ]
  },
  {
   "cell_type": "code",
   "execution_count": 2,
   "metadata": {},
   "outputs": [
    {
     "name": "stdin",
     "output_type": "stream",
     "text": [
      "enter a numner: 20\n"
     ]
    },
    {
     "name": "stdout",
     "output_type": "stream",
     "text": [
      "20  is positive\n"
     ]
    }
   ],
   "source": [
    "number=int(input('enter a numner:'))\n",
    "if number>0:\n",
    "    print(number,' is positive')\n",
    "else:\n",
    "    if number<0:\n",
    "        print(number,'is negative')\n",
    "    else:\n",
    "        print('invalid')"
   ]
  },
  {
   "cell_type": "markdown",
   "metadata": {},
   "source": [
    "2.Create a program that determines if a person is eligible to vote based on their age."
   ]
  },
  {
   "cell_type": "code",
   "execution_count": 4,
   "metadata": {},
   "outputs": [
    {
     "name": "stdin",
     "output_type": "stream",
     "text": [
      "enter your age: 45\n"
     ]
    },
    {
     "name": "stdout",
     "output_type": "stream",
     "text": [
      "you are eligible to vote\n"
     ]
    }
   ],
   "source": [
    "age=int(input('enter your age:'))   # input age from user\n",
    "if age>0:    # age must be positive\n",
    "    if age>18:    # greater than 18 or not\n",
    "        print('you are eligible to vote')\n",
    "    else:\n",
    "        print('you are not eligible to vote')\n",
    "else:\n",
    "    print('invalid')"
   ]
  },
  {
   "cell_type": "markdown",
   "metadata": {},
   "source": [
    "3.Develop a program to find the maximum of two numbers using if-else statements."
   ]
  },
  {
   "cell_type": "code",
   "execution_count": 5,
   "metadata": {},
   "outputs": [
    {
     "name": "stdin",
     "output_type": "stream",
     "text": [
      "enter a number 20\n",
      "enter a number: 67\n"
     ]
    },
    {
     "name": "stdout",
     "output_type": "stream",
     "text": [
      "67 is big\n"
     ]
    }
   ],
   "source": [
    "num1=int(input('enter a number'))\n",
    "num2=int(input('enter a number:'))\n",
    "if num1>num2:\n",
    "    print(num1,'is big')\n",
    "else:\n",
    "    print(num2,'is big')"
   ]
  },
  {
   "cell_type": "markdown",
   "metadata": {},
   "source": [
    "4.Write a Python script to classify a given year as a leap year or not."
   ]
  },
  {
   "cell_type": "markdown",
   "metadata": {},
   "source": [
    "If a year is evenly divisible by 4 means having no remainder then go to next step. If it is not divisible by 4. It is not a leap year. For example: 1997 is not a leap year.\n",
    "If a year is divisible by 4, but not by 100. For example: 2012, it is a leap year. If a year is divisible by both 4 and 100, go to next step.\n",
    "If a year is divisible by 100, but not by 400. For example: 1900, then it is not a leap year. If a year is divisible by both, then it is a leap year. So 2000 is a leap year "
   ]
  },
  {
   "cell_type": "code",
   "execution_count": 1,
   "metadata": {},
   "outputs": [
    {
     "name": "stdout",
     "output_type": "stream",
     "text": [
      "enter a year:2012\n",
      "2012 is a leap year\n"
     ]
    }
   ],
   "source": [
    "year=int(input('enter a year:'))\n",
    "if year%4==0 and (year%100!=0 or year%400==0):\n",
    "    print(year,'is a leap year')\n",
    "else:\n",
    "    print(year,'is not leap year')"
   ]
  },
  {
   "cell_type": "markdown",
   "metadata": {},
   "source": [
    "5.Create a program that checks whether a character is a vowel or a consonant."
   ]
  },
  {
   "cell_type": "code",
   "execution_count": 6,
   "metadata": {},
   "outputs": [
    {
     "name": "stdin",
     "output_type": "stream",
     "text": [
      "enter a character: A\n"
     ]
    },
    {
     "name": "stdout",
     "output_type": "stream",
     "text": [
      "A is vowel\n"
     ]
    }
   ],
   "source": [
    "char=input('enter a character:')\n",
    "if char in ['a','e','i','o','u','A','E','I','O','U']:\n",
    "    print(char,'is vowel')\n",
    "else:\n",
    "    print(char,'is consonant')"
   ]
  },
  {
   "cell_type": "markdown",
   "metadata": {},
   "source": [
    "6.Implement a program to determine whether a given number is even or odd."
   ]
  },
  {
   "cell_type": "code",
   "execution_count": 6,
   "metadata": {},
   "outputs": [
    {
     "name": "stdin",
     "output_type": "stream",
     "text": [
      "enter a number: 5\n"
     ]
    },
    {
     "name": "stdout",
     "output_type": "stream",
     "text": [
      "5 is odd\n"
     ]
    }
   ],
   "source": [
    "number=int(input('enter a number:'))   #input number  \n",
    "if number%2==0:\n",
    "    print(number,'is even')\n",
    "else:\n",
    "    print(number,'is odd')"
   ]
  },
  {
   "cell_type": "markdown",
   "metadata": {},
   "source": [
    "7.Write a Python function to calculate the absolute value of a number without using the `abs()` function."
   ]
  },
  {
   "cell_type": "code",
   "execution_count": 2,
   "metadata": {},
   "outputs": [
    {
     "name": "stdout",
     "output_type": "stream",
     "text": [
      "enter a number:-10\n",
      "absolute number: 10\n"
     ]
    }
   ],
   "source": [
    "number=int(input('enter a number:'))\n",
    "if number<0:\n",
    "    print('absolute number:',number*-1) #less than 0\n",
    "else:\n",
    "    print('absolute number:',number*1)  # greater than zero"
   ]
  },
  {
   "cell_type": "markdown",
   "metadata": {},
   "source": [
    "8.Develop a program that determines the largest of three given numbers using if-else statements."
   ]
  },
  {
   "cell_type": "code",
   "execution_count": 9,
   "metadata": {},
   "outputs": [
    {
     "name": "stdin",
     "output_type": "stream",
     "text": [
      "enter a number: 10\n",
      "enter a number: 20\n",
      "enter a number: 30\n"
     ]
    },
    {
     "name": "stdout",
     "output_type": "stream",
     "text": [
      "30 is largest\n"
     ]
    }
   ],
   "source": [
    "num1=int(input('enter a number:'))\n",
    "num2=int(input('enter a number:'))\n",
    "num3=int(input('enter a number:'))\n",
    "if num1>num2:\n",
    "    if num1>num3:\n",
    "        print(num1,'is largest')\n",
    "    else:\n",
    "        print(num3,'is largest')\n",
    "else:\n",
    "    if num2>num3:\n",
    "        print(num2,'is largest')\n",
    "    else:\n",
    "        print(num3,'is largest')   "
   ]
  },
  {
   "cell_type": "markdown",
   "metadata": {},
   "source": [
    "9.Create a program that checks if a given string is a palindrome."
   ]
  },
  {
   "cell_type": "code",
   "execution_count": 2,
   "metadata": {},
   "outputs": [
    {
     "name": "stdin",
     "output_type": "stream",
     "text": [
      "enter a string: madam\n"
     ]
    },
    {
     "name": "stdout",
     "output_type": "stream",
     "text": [
      "madam is palindrome\n"
     ]
    }
   ],
   "source": [
    "string=input('enter a string:') #input string\n",
    "rev_str=''     #empty string\n",
    "for i in string:\n",
    "    rev_str=i+rev_str\n",
    "if rev_str==string:\n",
    "    print(string,'is palindrome')\n",
    "else:\n",
    "    print(string,'is not palindrome')"
   ]
  },
  {
   "cell_type": "markdown",
   "metadata": {},
   "source": [
    "10.Write a Python program to calculate the grade based on a student's score."
   ]
  },
  {
   "cell_type": "code",
   "execution_count": 11,
   "metadata": {},
   "outputs": [
    {
     "name": "stdin",
     "output_type": "stream",
     "text": [
      "enter your score: 67\n"
     ]
    },
    {
     "name": "stdout",
     "output_type": "stream",
     "text": [
      "your grade is C\n"
     ]
    }
   ],
   "source": [
    "score=float(input('enter your score:')) # taking input from user\n",
    "if score==100 and score>90:    #checking conditions\n",
    "    print('your grade is EX')\n",
    "else:\n",
    "    if score<=90 and score>80:\n",
    "        print('your garde is A')\n",
    "    else:\n",
    "        if score<=80 and score>70:\n",
    "            print('your grade is B')\n",
    "        else:\n",
    "            if score<=70 and score>50:\n",
    "                print('your grade is C')\n",
    "            else:\n",
    "                print('fail')"
   ]
  },
  {
   "cell_type": "markdown",
   "metadata": {},
   "source": [
    "Nested If-Else Statements:\n",
    "    11. Write a program to find the largest among three numbers using nested if-else statements."
   ]
  },
  {
   "cell_type": "code",
   "execution_count": 13,
   "metadata": {},
   "outputs": [
    {
     "name": "stdout",
     "output_type": "stream",
     "text": [
      "enter a number:3\n",
      "enter a number:7\n",
      "enter a number:2\n",
      "7 is largest\n"
     ]
    }
   ],
   "source": [
    "num1=int(input('enter a number:'))\n",
    "num2=int(input('enter a number:'))\n",
    "num3=int(input('enter a number:'))\n",
    "if num1>num2:\n",
    "    if num1>num3:\n",
    "        print(num1,'is largest')\n",
    "    else:\n",
    "        print(num3,'is largest')\n",
    "else:\n",
    "    if num2>num3:\n",
    "        print(num2,'is largest')\n",
    "    else:\n",
    "        print(num3,'is largest') "
   ]
  },
  {
   "cell_type": "markdown",
   "metadata": {},
   "source": [
    "12.Implement a program to determine if a triangle is equilateral, isosceles, or scalene."
   ]
  },
  {
   "cell_type": "code",
   "execution_count": 12,
   "metadata": {},
   "outputs": [
    {
     "name": "stdin",
     "output_type": "stream",
     "text": [
      "enter x value: 60\n",
      "enter y value: 60\n",
      "enter z value: 60\n"
     ]
    },
    {
     "name": "stdout",
     "output_type": "stream",
     "text": [
      "based on given angles this is equilateral triangle\n"
     ]
    }
   ],
   "source": [
    "x_a=int(input('enter x value:'))\n",
    "y_a=int(input('enter y value:'))\n",
    "z_a=int(input('enter z value:'))\n",
    "if x_a==y_a==z_a:\n",
    "    print('based on given angles this is equilateral triangle')\n",
    "else:\n",
    "    if x_a==y_a or x_a==z_a or y_a==z_a:\n",
    "        print('based on given angles this is isosceles triangle')\n",
    "    else:\n",
    "        print('this is scelene triangle')"
   ]
  },
  {
   "cell_type": "markdown",
   "metadata": {},
   "source": [
    "13.Develop a program that checks if a year is a leap year and also if it is a century year."
   ]
  },
  {
   "cell_type": "code",
   "execution_count": 3,
   "metadata": {},
   "outputs": [
    {
     "name": "stdout",
     "output_type": "stream",
     "text": [
      "enter a year:2000\n",
      "2000 is not leap year\n",
      "2000 century year\n"
     ]
    }
   ],
   "source": [
    "year=int(input('enter a year:'))\n",
    "if year%4==0 and (year%100!=0 and year%400==0):\n",
    "    print(year,'is a leap year')\n",
    "else:\n",
    "    print(year,'is not leap year')\n",
    "if year%100==0:\n",
    "    print(year,\"century year\")\n",
    "else:\n",
    "    print(year,'not century year')"
   ]
  },
  {
   "cell_type": "markdown",
   "metadata": {},
   "source": [
    "14.Write a Python script to determine if a number is positive, negative, or zero."
   ]
  },
  {
   "cell_type": "code",
   "execution_count": 3,
   "metadata": {},
   "outputs": [
    {
     "name": "stdin",
     "output_type": "stream",
     "text": [
      "enter a number: -90\n"
     ]
    },
    {
     "name": "stdout",
     "output_type": "stream",
     "text": [
      "-90 is negative number\n"
     ]
    }
   ],
   "source": [
    "number=int(input('enter a number:'))\n",
    "if number>0:\n",
    "    print(number,'is a positive number')\n",
    "elif number<0:\n",
    "    print(number,'is negative number')\n",
    "else:\n",
    "    print(number,'is zero')"
   ]
  },
  {
   "cell_type": "markdown",
   "metadata": {},
   "source": [
    "15.Create a program to check if a person is a teenager (between 13 and 19 years old)."
   ]
  },
  {
   "cell_type": "code",
   "execution_count": 5,
   "metadata": {},
   "outputs": [
    {
     "name": "stdin",
     "output_type": "stream",
     "text": [
      "enter your age: 19\n"
     ]
    },
    {
     "name": "stdout",
     "output_type": "stream",
     "text": [
      "your teenager\n"
     ]
    }
   ],
   "source": [
    "age=int(input('enter your age:'))\n",
    "if age>13 and age<=19:\n",
    "    print('your teenager')\n",
    "else:\n",
    "    print('your not teenager')"
   ]
  },
  {
   "cell_type": "markdown",
   "metadata": {},
   "source": [
    "16.Develop a program that determines the type of angle based on its measure (acute, obtuse, or right)."
   ]
  },
  {
   "cell_type": "code",
   "execution_count": 4,
   "metadata": {},
   "outputs": [
    {
     "name": "stdout",
     "output_type": "stream",
     "text": [
      "enter length1 of triangle:12\n",
      "enter length2 of traingle:4\n",
      "enter length3 of traingle:2\n",
      "this traingle is obtuse_angled traingle\n"
     ]
    }
   ],
   "source": [
    "side_1=int(input('enter length1 of triangle:')) #inputs from user\n",
    "side_2=int(input('enter length2 of traingle:'))\n",
    "side_3=int(input('enter length3 of traingle:'))\n",
    "s_s1=side_1*side_1   #square of length1\n",
    "s_s2=side_2*side_2   #square of length2\n",
    "s_s3=side_3*side_3   #square of length3\n",
    "if s_s1==s_s2+s_s3 or s_s2==s_s1+s_s3 or s_s3==s_s1+s_s2:\n",
    "    print('traingle is right-angled traingle')\n",
    "elif s_s1>s_s2+s_s3 or s_s2>s_s1+s_s3 or s_s3>s_s1+s_s2:\n",
    "    print('this traingle is obtuse_angled traingle')\n",
    "else:\n",
    "    print('this traingle is Acute-angled traingle')"
   ]
  },
  {
   "cell_type": "markdown",
   "metadata": {},
   "source": [
    "17.Write a Python program to calculate the roots of a quadratic equation."
   ]
  },
  {
   "cell_type": "code",
   "execution_count": 5,
   "metadata": {},
   "outputs": [
    {
     "name": "stdout",
     "output_type": "stream",
     "text": [
      "Ax^2+BX+C\n",
      "\n",
      "Enter A value:3\n",
      "Enter B value:4\n",
      "Enter C value:1\n",
      "roots of quadratic equation: -3.0 -9.0\n"
     ]
    }
   ],
   "source": [
    "print('Ax^2+BX+C\\n')\n",
    "A=int(input('Enter A value:')) #input from user\n",
    "B=int(input('Enter B value:'))\n",
    "C=int(input('Enter C value:'))\n",
    "D=B*B-4*A*C\n",
    "D1=D**0.5#discriminant\n",
    "if D1>0:\n",
    "    r1=(-B+D1)/2*A   #roots\n",
    "    r2=(-B-D1)/2*A\n",
    "    print('roots of quadratic equation:',r1,r2)\n",
    "else:\n",
    "    print('imaginary roots')"
   ]
  },
  {
   "cell_type": "markdown",
   "metadata": {},
   "source": [
    "18.Implement a program to determine the day of the week based on a user-provided number (1 for Monday, 2 for Tuesday, etc.)."
   ]
  },
  {
   "cell_type": "code",
   "execution_count": 8,
   "metadata": {},
   "outputs": [
    {
     "name": "stdin",
     "output_type": "stream",
     "text": [
      "enter a number to obtain day: 7\n"
     ]
    },
    {
     "name": "stdout",
     "output_type": "stream",
     "text": [
      "SUNDAY\n"
     ]
    }
   ],
   "source": [
    "day_no=int(input('enter a number to obtain day:'))\n",
    "if day_no==1:\n",
    "    print('MONDAY')\n",
    "elif day_no==2:\n",
    "    print('TUESDAY')\n",
    "elif day_no==3:\n",
    "    print('WEDNESDAY')\n",
    "elif day_no==4:\n",
    "    print('THURSDAY')\n",
    "elif day_no==5:\n",
    "    print('FRIDAY')\n",
    "elif day_no==6:\n",
    "    print('SATURDAY')\n",
    "elif day_no==7:\n",
    "    print('SUNDAY')\n",
    "else:\n",
    "    print('enter values from 1 to 7 only')"
   ]
  },
  {
   "cell_type": "markdown",
   "metadata": {},
   "source": [
    "19.create a program that determines if a year is a leap year and also if it is evenly divisible by 400."
   ]
  },
  {
   "cell_type": "code",
   "execution_count": 10,
   "metadata": {},
   "outputs": [
    {
     "name": "stdout",
     "output_type": "stream",
     "text": [
      "Enter a year: 2000\n",
      "2000 is a leap year.\n",
      "year is evenly divisible by 400.\n"
     ]
    }
   ],
   "source": [
    "def is_leap_year(year):\n",
    "    if (year % 4 == 0 and year % 100 != 0) or (year % 400 == 0):\n",
    "        return True\n",
    "    else:\n",
    "        return False\n",
    "year = int(input(\"Enter a year: \"))\n",
    "if is_leap_year(year):\n",
    "    print(year,\"is a leap year.\")\n",
    "    if year%400==0:\n",
    "        print(\"year is evenly divisible by 400.\")\n",
    "else:\n",
    "    print(f\"{year} is not a leap year.\")"
   ]
  },
  {
   "cell_type": "markdown",
   "metadata": {},
   "source": [
    "20.Develop a program that checks if a given number is prime or not using nested if-else statements."
   ]
  },
  {
   "cell_type": "code",
   "execution_count": 16,
   "metadata": {},
   "outputs": [
    {
     "name": "stdout",
     "output_type": "stream",
     "text": [
      "enter a number:78\n",
      "78 is not a prime number\n"
     ]
    }
   ],
   "source": [
    "num=int(input('enter a number:'))# Input a number from the user\n",
    "if num <= 1:   # Check if the number is less than or equal to 1\n",
    "    print(num,'is not a prime number')\n",
    "elif num == 2:  # Check if the number is exactly 2 (which is prime)\n",
    "    print(num,'is a prime number')\n",
    "elif num % 2 == 0:   # Check if the number is even (greater than 2)\n",
    "    print(num,'is not a prime number')\n",
    "else:                      # If the number is greater than 2 and not even\n",
    "    is_prime=True  # Assume the number is prime initially\n",
    "    # Check for divisibility from 3 to the square root of the number\n",
    "    for i in range(3,int(num**0.5) + 1, 2):\n",
    "        if num % i == 0:\n",
    "            is_prime = False\n",
    "            break\n",
    "    if is_prime:\n",
    "        print(num,'is a prime number')\n",
    "    else:\n",
    "        print(num,'is not a prime number')"
   ]
  },
  {
   "cell_type": "markdown",
   "metadata": {},
   "source": [
    "21.Write a Python program to assign grades based on different ranges of scores using elif statements."
   ]
  },
  {
   "cell_type": "code",
   "execution_count": 10,
   "metadata": {},
   "outputs": [
    {
     "name": "stdin",
     "output_type": "stream",
     "text": [
      "enter your score: 56\n"
     ]
    },
    {
     "name": "stdout",
     "output_type": "stream",
     "text": [
      "your grade is C\n"
     ]
    }
   ],
   "source": [
    "score=float(input('enter your score:')) # taking input from user\n",
    "if score==100 and score>90:    #checking conditions\n",
    "    print('your grade is EX')\n",
    "elif score<=90 and score>80:\n",
    "    print('your grade is A')\n",
    "elif score<=80 and score>75:\n",
    "    print('your grade is B')\n",
    "elif score<=75 and score>50:\n",
    "    print('your grade is C')\n",
    "else:\n",
    "    print('fail') "
   ]
  },
  {
   "cell_type": "markdown",
   "metadata": {},
   "source": [
    "22.Implement a program to determine the type of a triangle based on its angles."
   ]
  },
  {
   "cell_type": "code",
   "execution_count": 12,
   "metadata": {},
   "outputs": [
    {
     "name": "stdout",
     "output_type": "stream",
     "text": [
      "Enter the first angle: 90\n",
      "Enter the second angle: 45\n",
      "Enter the third angle: 45\n",
      "Right Triangle\n"
     ]
    }
   ],
   "source": [
    "def triangle_type(angle1, angle2, angle3):\n",
    "    if angle1 + angle2 + angle3 == 180: # Check if the angles form a valid triangle (sum of angles equals 180 degrees).\n",
    "        if angle1 < 90 and angle2 < 90 and angle3 < 90:   # Check the type of triangle based on its angles.\n",
    "            return \"Acute Triangle\"\n",
    "        elif angle1 == 90 or angle2 == 90 or angle3 == 90:\n",
    "            return \"Right Triangle\"\n",
    "        else:\n",
    "            return \"Obtuse Triangle\"\n",
    "    else:\n",
    "        return \"Not a valid triangle\"\n",
    "# Input angles from the user.\n",
    "angle1 = int(input(\"Enter the first angle: \"))\n",
    "angle2 = int(input(\"Enter the second angle: \"))\n",
    "angle3 = int(input(\"Enter the third angle: \"))\n",
    "# Determine and print the type of triangle.\n",
    "result = triangle_type(angle1, angle2, angle3)\n",
    "print(result)"
   ]
  },
  {
   "cell_type": "markdown",
   "metadata": {},
   "source": [
    "23.Develop a program to categorize a given person's BMI into underweight, normal, overweight, or obese using\n",
    "elif statements."
   ]
  },
  {
   "cell_type": "code",
   "execution_count": 22,
   "metadata": {},
   "outputs": [
    {
     "name": "stdout",
     "output_type": "stream",
     "text": [
      "Enter your height (in meters): 149\n",
      "Enter your weight (in kilograms): 42\n",
      "Your BMI is 0.0018918066753749832, which categorizes you as Underweight\n"
     ]
    }
   ],
   "source": [
    "height = float(input(\"Enter your height (in meters): \"))\n",
    "weight = float(input(\"Enter your weight (in kilograms): \"))\n",
    "# Calculate BMI\n",
    "bmi=weight/(height ** 2)\n",
    "# Categorize BMI\n",
    "if bmi<18.5:\n",
    "    category=\"Underweight\"\n",
    "elif 18.5<=bmi< 24.5:\n",
    "    category = \"Normal Weight\"\n",
    "elif 24.9<=bmi<30.0:\n",
    "    category=\"Overweight\"\n",
    "else:\n",
    "    category=\"Obese\"\n",
    "# Print the BMI category\n",
    "print(f'Your BMI is {bmi},which categorizes you as {category}')"
   ]
  },
  {
   "cell_type": "markdown",
   "metadata": {},
   "source": [
    "24.Create a program that determines whether a given number is positive, negative, or zero using elif\n",
    "statements."
   ]
  },
  {
   "cell_type": "code",
   "execution_count": 23,
   "metadata": {},
   "outputs": [
    {
     "name": "stdout",
     "output_type": "stream",
     "text": [
      "Enter a number: 8\n",
      "8.0 is positive.\n"
     ]
    }
   ],
   "source": [
    "# Input a number from the user\n",
    "number = float(input(\"Enter a number: \"))\n",
    "# Determine whether the number is positive, negative, or zero\n",
    "if number > 0:\n",
    "    print(f\"{number} is positive.\")\n",
    "elif number < 0:\n",
    "    print(f\"{number} is negative.\")\n",
    "else:\n",
    "    print(\"The number is zero.\")"
   ]
  },
  {
   "cell_type": "markdown",
   "metadata": {},
   "source": [
    "25.Write a Python script to determine the type of a character (uppercase, lowercase, or special) using elif\n",
    "statements."
   ]
  },
  {
   "cell_type": "code",
   "execution_count": 25,
   "metadata": {},
   "outputs": [
    {
     "name": "stdout",
     "output_type": "stream",
     "text": [
      "Enter a character: e\n",
      "e is a lowercase letter.\n"
     ]
    }
   ],
   "source": [
    "# Input a character from the user\n",
    "character = input(\"Enter a character: \")\n",
    "# Check the type of character\n",
    "if character.isalpha():\n",
    "    if character.islower():\n",
    "        print(f\"{character} is a lowercase letter.\")\n",
    "    elif character.isupper():\n",
    "        print(f\"{character} is an uppercase letter.\")\n",
    "else:\n",
    "    print(f\"{character} is a special character or a digit.\")"
   ]
  },
  {
   "cell_type": "markdown",
   "metadata": {},
   "source": [
    "26.Implement a program to calculate the discounted price based on different purchase amounts using elif\n",
    "statements."
   ]
  },
  {
   "cell_type": "code",
   "execution_count": 27,
   "metadata": {},
   "outputs": [
    {
     "name": "stdout",
     "output_type": "stream",
     "text": [
      "Enter the purchase amount$: 960\n",
      "Discounted Price: $864.00\n"
     ]
    }
   ],
   "source": [
    "# Input the purchase amount from the user\n",
    "purchase_amount = float(input(\"Enter the purchase amount$: \"))\n",
    "# Initialize variables for discount rates\n",
    "discount_rate_1 = 0.05  # 5% discount for purchases over $100\n",
    "discount_rate_2 = 0.10  # 10% discount for purchases over $500\n",
    "discount_rate_3 = 0.15  # 15% discount for purchases over $1000\n",
    "# Calculate the discounted price based on purchase amount\n",
    "if purchase_amount>1000:\n",
    "    discounted_price=purchase_amount-(purchase_amount*discount_rate_3)\n",
    "elif purchase_amount>500:\n",
    "    discounted_price=purchase_amount-(purchase_amount*discount_rate_2)\n",
    "elif purchase_amount>100:\n",
    "    discounted_price=purchase_amount-(purchase_amount*discount_rate_1)\n",
    "else:\n",
    "    discounted_price=purchase_amount\n",
    "\n",
    "# Print the discounted price\n",
    "print(f\"Discounted Price: ${discounted_price:.2f}\")\n"
   ]
  },
  {
   "cell_type": "markdown",
   "metadata": {},
   "source": [
    "27.Develop a program to calculate the electricity bill based on different consumption slabs using elif\n",
    "statements."
   ]
  },
  {
   "cell_type": "code",
   "execution_count": 29,
   "metadata": {},
   "outputs": [
    {
     "name": "stdout",
     "output_type": "stream",
     "text": [
      "Enter electricity consumption (in kWh): 670\n",
      "Consumed Units: 300 kWh\n",
      "Total Cost: $114.00\n"
     ]
    }
   ],
   "source": [
    "# Input the electricity consumption in kilowatt-hours (kWh) from the user\n",
    "consumption = float(input(\"Enter electricity consumption (in kWh): \"))\n",
    "# Define the electricity rate slabs\n",
    "rate_slab_1 = 0.10  # Rate for the first 100 kWh\n",
    "rate_slab_2 = 0.15  # Rate for the next 200 kWh\n",
    "rate_slab_3 = 0.20  # Rate for consumption above 300 kWh\n",
    "# Initialize variables for total cost and consumed units\n",
    "total_cost = 0.0\n",
    "consumed_units = 0\n",
    "# Calculate the electricity bill based on consumption\n",
    "if consumption <= 100:\n",
    "    total_cost = consumption * rate_slab_1\n",
    "    consumed_units = consumption\n",
    "elif consumption <= 300:\n",
    "    total_cost = (100 * rate_slab_1) + ((consumption - 100) * rate_slab_2)\n",
    "    consumed_units = consumption\n",
    "else:\n",
    "    total_cost = (100 * rate_slab_1) + (200 * rate_slab_2) + ((consumption - 300) * rate_slab_3)\n",
    "    consumed_units = 300\n",
    "# Print the electricity bill\n",
    "print(f\"Consumed Units: {consumed_units} kWh\")\n",
    "print(f\"Total Cost: ${total_cost:.2f}\")\n"
   ]
  },
  {
   "cell_type": "markdown",
   "metadata": {},
   "source": [
    "28.Create a program to determine the type of quadrilateral based on its angles and sides using elif\n",
    "statements."
   ]
  },
  {
   "cell_type": "code",
   "execution_count": 1,
   "metadata": {},
   "outputs": [
    {
     "name": "stdout",
     "output_type": "stream",
     "text": [
      "Enter the first angle (in degrees): 45\n",
      "Enter the second angle (in degrees): 45\n",
      "Enter the third angle (in degrees): 45\n",
      "Enter the fourth angle (in degrees): 45\n",
      "Enter the first side (in units): 8\n",
      "Enter the second side (in units): 9\n",
      "Enter the third side (in units): 20\n",
      "Enter the fourth side (in units): 20\n",
      "It is a rhombus.\n"
     ]
    }
   ],
   "source": [
    "# Input the four angles (in degrees) and four sides (in units) from the user\n",
    "angle1 = float(input(\"Enter the first angle (in degrees): \"))\n",
    "angle2 = float(input(\"Enter the second angle (in degrees): \"))\n",
    "angle3 = float(input(\"Enter the third angle (in degrees): \"))\n",
    "angle4 = float(input(\"Enter the fourth angle (in degrees): \"))\n",
    "#sides \n",
    "side1 = float(input(\"Enter the first side (in units): \"))\n",
    "side2 = float(input(\"Enter the second side (in units): \"))\n",
    "side3 = float(input(\"Enter the third side (in units): \"))\n",
    "side4 = float(input(\"Enter the fourth side (in units): \"))\n",
    "# Check the type of quadrilateral based on angles and sides\n",
    "if angle1 == angle2 == angle3 == angle4 == 90:\n",
    "    if side1 == side2 == side3 == side4:\n",
    "        print(\"It is a square.\")\n",
    "    elif side1 == side3 and side2 == side4:\n",
    "        print(\"It is a rectangle.\")\n",
    "    else:\n",
    "        print(\"It is a rectangle (opposite sides are equal).\")\n",
    "elif angle1 == angle2 == angle3 == angle4:\n",
    "    print(\"It is a rhombus.\")\n",
    "elif side1 == side2 == side3 == side4:\n",
    "    print(\"It is a parallelogram.\")\n",
    "else:\n",
    "    print(\"It is a general quadrilateral.\")"
   ]
  },
  {
   "cell_type": "markdown",
   "metadata": {},
   "source": [
    "29.Write a Python script to determine the season based on a user-provided month using elif statements."
   ]
  },
  {
   "cell_type": "code",
   "execution_count": 2,
   "metadata": {},
   "outputs": [
    {
     "name": "stdout",
     "output_type": "stream",
     "text": [
      "Enter a month (e.g., January, February, etc.): june\n",
      "The season for June is Summer.\n"
     ]
    }
   ],
   "source": [
    "# Input the month from the user\n",
    "month = input(\"Enter a month (e.g., January, February, etc.): \")\n",
    "# Convert the input to lowercase for case-insensitive comparison\n",
    "month = month.lower()\n",
    "# Determine the season based on the month\n",
    "if month in [\"december\", \"january\", \"february\"]:\n",
    "    season = \"Winter\"\n",
    "elif month in [\"march\", \"april\", \"may\"]:\n",
    "    season = \"Spring\"\n",
    "elif month in [\"june\", \"july\", \"august\"]:\n",
    "    season = \"Summer\"\n",
    "elif month in [\"september\", \"october\", \"november\"]:\n",
    "    season = \"Fall\"\n",
    "else:\n",
    "    season = \"Invalid month\"\n",
    "# Print the determined season\n",
    "print(f\"The season for {month.capitalize()} is {season}.\")"
   ]
  },
  {
   "cell_type": "markdown",
   "metadata": {},
   "source": [
    "30.Implement a program to determine the type of a year (leap or common) and month (30 or 31 days) using\n",
    "elif statements."
   ]
  },
  {
   "cell_type": "code",
   "execution_count": 1,
   "metadata": {},
   "outputs": [
    {
     "name": "stdout",
     "output_type": "stream",
     "text": [
      "Enter a year: 2014\n",
      "Enter a month (e.g., January, February, etc.): june\n",
      "2014 is a Common Year.\n",
      "The number of days in June is 30.\n"
     ]
    }
   ],
   "source": [
    "# Input a year and a month from the user\n",
    "year = int(input(\"Enter a year: \"))\n",
    "month = input(\"Enter a month (e.g., January, February, etc.): \")\n",
    "# Convert the input month to lowercase for case-insensitive comparison\n",
    "month = month.lower()\n",
    "# Determine if it's a leap year or a common year\n",
    "if (year % 4 == 0 and year % 100 != 0) or (year % 400 == 0):\n",
    "    year_type = \"Leap Year\"\n",
    "else:\n",
    "    year_type = \"Common Year\"\n",
    "# Determine the number of days in the month\n",
    "if month in [\"january\", \"march\", \"may\", \"july\", \"august\", \"october\", \"december\"]:\n",
    "    days_in_month = 31\n",
    "elif month in [\"april\", \"june\", \"september\", \"november\"]:\n",
    "    days_in_month = 30\n",
    "elif month == \"february\":\n",
    "    if year_type == \"Leap Year\":\n",
    "        days_in_month = 29\n",
    "    else:\n",
    "        days_in_month = 28\n",
    "else:\n",
    "    year_type = \"Invalid year\"\n",
    "    \n",
    "    days_in_month = \"Invalid month\"\n",
    "# Print the determined year type and number of days in the month\n",
    "print(f\"{year} is a {year_type}.\")\n",
    "print(f\"The number of days in {month.capitalize()} is {days_in_month}.\")\n"
   ]
  }
 ],
 "metadata": {
  "kernelspec": {
   "display_name": "Python 3",
   "language": "python",
   "name": "python3"
  },
  "language_info": {
   "codemirror_mode": {
    "name": "ipython",
    "version": 3
   },
   "file_extension": ".py",
   "mimetype": "text/x-python",
   "name": "python",
   "nbconvert_exporter": "python",
   "pygments_lexer": "ipython3",
   "version": "3.7.3"
  }
 },
 "nbformat": 4,
 "nbformat_minor": 5
}
